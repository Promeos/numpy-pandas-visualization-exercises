{
 "cells": [
  {
   "cell_type": "markdown",
   "metadata": {},
   "source": [
    "# 17 List Comprehension Problems in Python Using Pandas"
   ]
  },
  {
   "cell_type": "code",
   "execution_count": 84,
   "metadata": {},
   "outputs": [],
   "source": [
    "import pandas as pd\n",
    "import numpy as np"
   ]
  },
  {
   "cell_type": "code",
   "execution_count": 85,
   "metadata": {},
   "outputs": [],
   "source": [
    "fruits = pd.Series(['mango', 'kiwi', 'strawberry', 'guava',\n",
    "                    'pineapple','mandarin orange'])\n",
    "\n",
    "numbers = pd.Series([2, 3, 4, 5, 6, 7, 8, 9, 10, 11, 13,\n",
    "                     17, 19, 23, 256, -8, -4, -2, 5, -9])"
   ]
  },
  {
   "cell_type": "markdown",
   "metadata": {},
   "source": [
    "## Exercise 1\n",
    "> rewrite the above example code using list comprehension syntax. Make a variable named `uppercased_fruits` to hold the output of the list comprehension. Output should be ['MANGO', 'KIWI', etc...]"
   ]
  },
  {
   "cell_type": "code",
   "execution_count": 7,
   "metadata": {},
   "outputs": [
    {
     "name": "stdout",
     "output_type": "stream",
     "text": [
      "0              MANGO\n",
      "1               KIWI\n",
      "2         STRAWBERRY\n",
      "3              GUAVA\n",
      "4          PINEAPPLE\n",
      "5    MANDARIN ORANGE\n",
      "dtype: object\n"
     ]
    }
   ],
   "source": [
    "uppercased_fruits = fruits.str.upper()\n",
    "print(uppercased_fruits)"
   ]
  },
  {
   "cell_type": "markdown",
   "metadata": {},
   "source": [
    "## Exercise 2\n",
    "> create a variable named `capitalized_fruits` and use list comprehension syntax to produce output like ['Mango', 'Kiwi', 'Strawberry', etc...]"
   ]
  },
  {
   "cell_type": "code",
   "execution_count": 8,
   "metadata": {},
   "outputs": [
    {
     "name": "stdout",
     "output_type": "stream",
     "text": [
      "0              Mango\n",
      "1               Kiwi\n",
      "2         Strawberry\n",
      "3              Guava\n",
      "4          Pineapple\n",
      "5    Mandarin Orange\n",
      "dtype: object\n"
     ]
    }
   ],
   "source": [
    "capitalizes_fruits = fruits.str.title()\n",
    "print(capitalizes_fruits)"
   ]
  },
  {
   "cell_type": "markdown",
   "metadata": {},
   "source": [
    "## Exercise 3\n",
    "> Use a list comprehension to make a variable named `fruits_with_more_than_two_vowels`. Hint: You'll need a way to check if something is a vowel."
   ]
  },
  {
   "cell_type": "code",
   "execution_count": 12,
   "metadata": {},
   "outputs": [
    {
     "name": "stdout",
     "output_type": "stream",
     "text": [
      "3              guava\n",
      "4          pineapple\n",
      "5    mandarin orange\n",
      "dtype: object\n"
     ]
    }
   ],
   "source": [
    "fruits_with_more_than_two_vowels = fruits[fruits.str.count('[aeiou]') > 2]\n",
    "print(fruits_with_more_than_two_vowels)"
   ]
  },
  {
   "cell_type": "markdown",
   "metadata": {},
   "source": [
    "## Exercise 4\n",
    "> Make a variable named `fruits_with_only_two_vowels`. The result should be ['mango', 'kiwi', 'strawberry']"
   ]
  },
  {
   "cell_type": "code",
   "execution_count": 13,
   "metadata": {},
   "outputs": [
    {
     "name": "stdout",
     "output_type": "stream",
     "text": [
      "0         mango\n",
      "1          kiwi\n",
      "2    strawberry\n",
      "dtype: object\n"
     ]
    }
   ],
   "source": [
    "fruits_with_only_two_vowels = fruits[fruits.str.count('[aeiou]') == 2]\n",
    "print(fruits_with_only_two_vowels)"
   ]
  },
  {
   "cell_type": "markdown",
   "metadata": {},
   "source": [
    "## Exercise 5\n",
    "> Make a list that contains each fruit with more than 5 characters"
   ]
  },
  {
   "cell_type": "code",
   "execution_count": 15,
   "metadata": {},
   "outputs": [
    {
     "name": "stdout",
     "output_type": "stream",
     "text": [
      "2         strawberry\n",
      "4          pineapple\n",
      "5    mandarin orange\n",
      "dtype: object\n"
     ]
    }
   ],
   "source": [
    "print(fruits[fruits.str.len() > 5])"
   ]
  },
  {
   "cell_type": "markdown",
   "metadata": {},
   "source": [
    "## Exercise 6\n",
    "> Make a list that contains each fruit with exactly 5 characters"
   ]
  },
  {
   "cell_type": "code",
   "execution_count": 86,
   "metadata": {},
   "outputs": [
    {
     "name": "stdout",
     "output_type": "stream",
     "text": [
      "0    mango\n",
      "3    guava\n",
      "dtype: object\n"
     ]
    }
   ],
   "source": [
    "print(fruits[fruits.str.len() == 5])"
   ]
  },
  {
   "cell_type": "markdown",
   "metadata": {},
   "source": [
    "## Exercise 7\n",
    "> Make a list that contains fruits that have less than 5 characters"
   ]
  },
  {
   "cell_type": "code",
   "execution_count": 87,
   "metadata": {},
   "outputs": [
    {
     "name": "stdout",
     "output_type": "stream",
     "text": [
      "1    kiwi\n",
      "dtype: object\n"
     ]
    }
   ],
   "source": [
    "print(fruits[fruits.str.len() < 5])"
   ]
  },
  {
   "cell_type": "markdown",
   "metadata": {},
   "source": [
    "## Exercise 8\n",
    "> Make a list containing the number of characters in each fruit. Output would be [5, 4, 10, etc... ]"
   ]
  },
  {
   "cell_type": "code",
   "execution_count": 21,
   "metadata": {},
   "outputs": [
    {
     "name": "stdout",
     "output_type": "stream",
     "text": [
      "0     5\n",
      "1     4\n",
      "2    10\n",
      "3     5\n",
      "4     9\n",
      "5    15\n",
      "dtype: int64\n"
     ]
    }
   ],
   "source": [
    "print(fruits.str.len())"
   ]
  },
  {
   "cell_type": "markdown",
   "metadata": {},
   "source": [
    "## Exercise 9\n",
    "> Make a variable named `fruits_with_letter_a` that contains a list of only the fruits that contain the letter \"a\""
   ]
  },
  {
   "cell_type": "code",
   "execution_count": 23,
   "metadata": {},
   "outputs": [
    {
     "name": "stdout",
     "output_type": "stream",
     "text": [
      "0              mango\n",
      "2         strawberry\n",
      "3              guava\n",
      "4          pineapple\n",
      "5    mandarin orange\n",
      "dtype: object\n"
     ]
    }
   ],
   "source": [
    "fruits_with_letter_a = fruits[fruits.str.count('a') > 0]\n",
    "print(fruits_with_letter_a)"
   ]
  },
  {
   "cell_type": "markdown",
   "metadata": {},
   "source": [
    "## Exercise 10\n",
    "> Make a variable named `even_numbers` that holds only the even numbers"
   ]
  },
  {
   "cell_type": "code",
   "execution_count": 24,
   "metadata": {},
   "outputs": [
    {
     "name": "stdout",
     "output_type": "stream",
     "text": [
      "0       2\n",
      "2       4\n",
      "4       6\n",
      "6       8\n",
      "8      10\n",
      "14    256\n",
      "15     -8\n",
      "16     -4\n",
      "17     -2\n",
      "dtype: int64\n"
     ]
    }
   ],
   "source": [
    "even_numbers = numbers[numbers % 2 == 0]\n",
    "print(even_numbers)"
   ]
  },
  {
   "cell_type": "markdown",
   "metadata": {},
   "source": [
    "## Exercise 11\n",
    "> Make a variable named `odd_numbers` that holds only the odd numbers"
   ]
  },
  {
   "cell_type": "code",
   "execution_count": 26,
   "metadata": {},
   "outputs": [
    {
     "name": "stdout",
     "output_type": "stream",
     "text": [
      "1      3\n",
      "3      5\n",
      "5      7\n",
      "7      9\n",
      "9     11\n",
      "10    13\n",
      "11    17\n",
      "12    19\n",
      "13    23\n",
      "18     5\n",
      "19    -9\n",
      "dtype: int64\n"
     ]
    }
   ],
   "source": [
    "odd_numbers = numbers[numbers % 2 != 0]\n",
    "print(odd_numbers)"
   ]
  },
  {
   "cell_type": "markdown",
   "metadata": {},
   "source": [
    "## Exercise 12\n",
    "> Make a variable named `positive_numbers` that holds only the positive numbers"
   ]
  },
  {
   "cell_type": "code",
   "execution_count": 27,
   "metadata": {},
   "outputs": [
    {
     "name": "stdout",
     "output_type": "stream",
     "text": [
      "0       2\n",
      "1       3\n",
      "2       4\n",
      "3       5\n",
      "4       6\n",
      "5       7\n",
      "6       8\n",
      "7       9\n",
      "8      10\n",
      "9      11\n",
      "10     13\n",
      "11     17\n",
      "12     19\n",
      "13     23\n",
      "14    256\n",
      "18      5\n",
      "dtype: int64\n"
     ]
    }
   ],
   "source": [
    "positive_numbers = numbers[numbers > 0]\n",
    "print(positive_numbers)"
   ]
  },
  {
   "cell_type": "markdown",
   "metadata": {},
   "source": [
    "## Exercise 13\n",
    "> Make a variable named `negative_numbers` that holds only the negative numbers"
   ]
  },
  {
   "cell_type": "code",
   "execution_count": 28,
   "metadata": {},
   "outputs": [
    {
     "name": "stdout",
     "output_type": "stream",
     "text": [
      "15   -8\n",
      "16   -4\n",
      "17   -2\n",
      "19   -9\n",
      "dtype: int64\n"
     ]
    }
   ],
   "source": [
    "negative_numbers = numbers[numbers < 0]\n",
    "print(negative_numbers)"
   ]
  },
  {
   "cell_type": "markdown",
   "metadata": {},
   "source": [
    "## Exercise 14\n",
    "> Use a list comprehension w/ a conditional in order to produce a list of numbers with 2 or more numerals"
   ]
  },
  {
   "cell_type": "code",
   "execution_count": 35,
   "metadata": {},
   "outputs": [
    {
     "name": "stdout",
     "output_type": "stream",
     "text": [
      "8      10\n",
      "9      11\n",
      "10     13\n",
      "11     17\n",
      "12     19\n",
      "13     23\n",
      "14    256\n",
      "dtype: int64\n"
     ]
    }
   ],
   "source": [
    "print(numbers[abs(numbers) >= 10])"
   ]
  },
  {
   "cell_type": "markdown",
   "metadata": {},
   "source": [
    "## Exercise 15\n",
    "> Make a variable named numbers_squared that contains the numbers list with each element squared. Output is [4, 9, 16, etc...]"
   ]
  },
  {
   "cell_type": "code",
   "execution_count": 89,
   "metadata": {},
   "outputs": [
    {
     "name": "stdout",
     "output_type": "stream",
     "text": [
      "0         4\n",
      "1         9\n",
      "2        16\n",
      "3        25\n",
      "4        36\n",
      "5        49\n",
      "6        64\n",
      "7        81\n",
      "8       100\n",
      "9       121\n",
      "10      169\n",
      "11      289\n",
      "12      361\n",
      "13      529\n",
      "14    65536\n",
      "15       64\n",
      "16       16\n",
      "17        4\n",
      "18       25\n",
      "19       81\n",
      "dtype: int64\n"
     ]
    }
   ],
   "source": [
    "numbers_squared = numbers ** 2\n",
    "print(numbers_squared)"
   ]
  },
  {
   "cell_type": "markdown",
   "metadata": {},
   "source": [
    "## Exercise 16\n",
    "> Make a variable named odd_negative_numbers that contains only the numbers that are both odd and negative."
   ]
  },
  {
   "cell_type": "code",
   "execution_count": 90,
   "metadata": {},
   "outputs": [
    {
     "name": "stdout",
     "output_type": "stream",
     "text": [
      "19   -9\n",
      "dtype: int64\n"
     ]
    }
   ],
   "source": [
    "odd_negative_numbers = numbers[(numbers % 2 != 0) & (numbers < 0)]\n",
    "print(odd_negative_numbers)"
   ]
  },
  {
   "cell_type": "markdown",
   "metadata": {},
   "source": [
    "## Exercise 17\n",
    "> Make a variable named `numbers_plus_5`. In it, return a list containing each number plus five."
   ]
  },
  {
   "cell_type": "code",
   "execution_count": 92,
   "metadata": {},
   "outputs": [
    {
     "name": "stdout",
     "output_type": "stream",
     "text": [
      "0       7\n",
      "1       8\n",
      "2       9\n",
      "3      10\n",
      "4      11\n",
      "5      12\n",
      "6      13\n",
      "7      14\n",
      "8      15\n",
      "9      16\n",
      "10     18\n",
      "11     22\n",
      "12     24\n",
      "13     28\n",
      "14    261\n",
      "15     -3\n",
      "16      1\n",
      "17      3\n",
      "18     10\n",
      "19     -4\n",
      "dtype: int64\n"
     ]
    }
   ],
   "source": [
    "numbers_plus_5 = numbers + 5\n",
    "print(numbers_plus_5)"
   ]
  },
  {
   "cell_type": "markdown",
   "metadata": {},
   "source": [
    "## BONUS \n",
    ">Make a variable named `primes` that is a list containing the prime numbers in the numbers list. *Hint* you may want to make or find a helper function that determines if a given number is prime or not."
   ]
  },
  {
   "cell_type": "code",
   "execution_count": 83,
   "metadata": {},
   "outputs": [
    {
     "data": {
      "text/plain": [
       "0      2\n",
       "1      3\n",
       "3      5\n",
       "5      7\n",
       "9     11\n",
       "10    13\n",
       "11    17\n",
       "12    19\n",
       "13    23\n",
       "17    -2\n",
       "18     5\n",
       "dtype: int64"
      ]
     },
     "execution_count": 83,
     "metadata": {},
     "output_type": "execute_result"
    }
   ],
   "source": [
    "def prime_detector(value):\n",
    "    is_prime = True\n",
    "\n",
    "    value = abs(value)\n",
    "    for i in range(2, value):\n",
    "        if value % i == 0:\n",
    "            is_prime = False\n",
    "\n",
    "    if value == 1:\n",
    "        return value\n",
    "    elif is_prime:\n",
    "        return True\n",
    "\n",
    "numbers[numbers.apply(prime_detector) == True]"
   ]
  }
 ],
 "metadata": {
  "kernelspec": {
   "display_name": "Python 3",
   "language": "python",
   "name": "python3"
  },
  "language_info": {
   "codemirror_mode": {
    "name": "ipython",
    "version": 3
   },
   "file_extension": ".py",
   "mimetype": "text/x-python",
   "name": "python",
   "nbconvert_exporter": "python",
   "pygments_lexer": "ipython3",
   "version": "3.7.6"
  }
 },
 "nbformat": 4,
 "nbformat_minor": 4
}
