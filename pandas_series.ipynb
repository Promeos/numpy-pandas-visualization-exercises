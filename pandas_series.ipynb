{
 "cells": [
  {
   "cell_type": "code",
   "execution_count": 140,
   "metadata": {
    "ExecuteTime": {
     "end_time": "2020-08-12T15:46:24.957017Z",
     "start_time": "2020-08-12T15:46:24.181240Z"
    }
   },
   "outputs": [],
   "source": [
    "# Use pandas to create a Series from the following data:\n",
    "# import numpy as np\n",
    "import pandas as pd\n",
    "import matplotlib.pyplot as plt\n",
    "\n",
    "\n",
    "fruits =  pd.Series([\"kiwi\", \"mango\", \"strawberry\", \"pineapple\",\n",
    "\"gala apple\", \"honeycrisp apple\", \"tomato\", \"watermelon\",\n",
    "\"honeydew\", \"kiwi\", \"kiwi\", \"kiwi\", \"mango\", \"blueberry\",\n",
    "\"blackberry\", \"gooseberry\", \"papaya\"])"
   ]
  },
  {
   "cell_type": "code",
   "execution_count": 141,
   "metadata": {
    "ExecuteTime": {
     "end_time": "2020-08-12T15:46:24.965277Z",
     "start_time": "2020-08-12T15:46:24.958990Z"
    }
   },
   "outputs": [
    {
     "name": "stdout",
     "output_type": "stream",
     "text": [
      "count       17\n",
      "unique      13\n",
      "top       kiwi\n",
      "freq         4\n",
      "dtype: object\n"
     ]
    }
   ],
   "source": [
    "# Run .describe() on the series to see what describe returns for a series of strings.\n",
    "# print(fruits.describe(include='all'))\n",
    "\n",
    "# Using the `.describe` pandas method I can generate descriptive statistics about my data.\n",
    "# It returns a series of values that I can reference directly using dot notation or bracket\n",
    "# notation.\n",
    "print(fruits.describe())"
   ]
  },
  {
   "cell_type": "code",
   "execution_count": 142,
   "metadata": {
    "ExecuteTime": {
     "end_time": "2020-08-12T15:46:24.970675Z",
     "start_time": "2020-08-12T15:46:24.967851Z"
    }
   },
   "outputs": [
    {
     "name": "stdout",
     "output_type": "stream",
     "text": [
      "['kiwi' 'mango' 'strawberry' 'pineapple' 'gala apple' 'honeycrisp apple'\n",
      " 'tomato' 'watermelon' 'honeydew' 'blueberry' 'blackberry' 'gooseberry'\n",
      " 'papaya']\n"
     ]
    }
   ],
   "source": [
    "# Run the code necessary to produce only the unique fruit names.\n",
    "\n",
    "# I can use pandas `.unique` method to find all unique values is my dataset. Meaning\n",
    "# it returns all values that occur in the dataset, ignoring multiples of a value.\n",
    "# Kiwi has 4 instances in dataset fruits, but is only represented in `.unique` once.\n",
    "print(fruits.unique())"
   ]
  },
  {
   "cell_type": "code",
   "execution_count": 143,
   "metadata": {
    "ExecuteTime": {
     "end_time": "2020-08-12T15:46:24.977309Z",
     "start_time": "2020-08-12T15:46:24.973173Z"
    }
   },
   "outputs": [
    {
     "name": "stdout",
     "output_type": "stream",
     "text": [
      "kiwi                4\n",
      "mango               2\n",
      "gala apple          1\n",
      "watermelon          1\n",
      "strawberry          1\n",
      "tomato              1\n",
      "papaya              1\n",
      "pineapple           1\n",
      "honeydew            1\n",
      "gooseberry          1\n",
      "blackberry          1\n",
      "honeycrisp apple    1\n",
      "blueberry           1\n",
      "dtype: int64\n"
     ]
    }
   ],
   "source": [
    "# Determine how many times each value occurs in the series.\n",
    "\n",
    "# Using pandas `.unique` method I can return the unique values with their count. I can\n",
    "# return the number of times each unique value occurs in a dataset.\n",
    "# If I can normalize my dataset using the keyword parameter 'normalize'.\n",
    "# It return the fractional value of a datapoints representation in a dataset.\n",
    "# Kiwi was the most frequently occurring object in the dataset - It has a normalized value\n",
    "# or representative value of 24%.\n",
    "# print(fruits.value_counts(normalize=True))\n",
    "\n",
    "print(fruits.value_counts())"
   ]
  },
  {
   "cell_type": "code",
   "execution_count": 144,
   "metadata": {
    "ExecuteTime": {
     "end_time": "2020-08-12T15:46:24.983565Z",
     "start_time": "2020-08-12T15:46:24.979245Z"
    }
   },
   "outputs": [
    {
     "name": "stdout",
     "output_type": "stream",
     "text": [
      "0    kiwi\n",
      "dtype: object\n"
     ]
    }
   ],
   "source": [
    "# Determine the most frequently occurring fruit name from the series.\n",
    "\n",
    "# Pandas `pd.Series.mode()` returns the highest frequency value in a series.\n",
    "# Kiwi is returned because it appears 4 times in our dataset.\n",
    "# Alternatively, I could use .notation to pick out Kiwi from the `.describe` method\n",
    "# Using `d.Series.describe().top`\n",
    "# print(fruits.describe().top)\n",
    "\n",
    "print(fruits.mode())"
   ]
  },
  {
   "cell_type": "code",
   "execution_count": 145,
   "metadata": {
    "ExecuteTime": {
     "end_time": "2020-08-12T15:46:24.990339Z",
     "start_time": "2020-08-12T15:46:24.985124Z"
    }
   },
   "outputs": [
    {
     "name": "stdout",
     "output_type": "stream",
     "text": [
      "gala apple          1\n",
      "watermelon          1\n",
      "strawberry          1\n",
      "tomato              1\n",
      "papaya              1\n",
      "pineapple           1\n",
      "honeydew            1\n",
      "gooseberry          1\n",
      "blackberry          1\n",
      "honeycrisp apple    1\n",
      "blueberry           1\n",
      "dtype: int64\n"
     ]
    }
   ],
   "source": [
    "# Determine the least frequently occurring fruit name from the series.\n",
    "\n",
    "# By using `.describe` and `.value_counts` I have a better foundational \n",
    "# understanding of the dataset.\n",
    "\n",
    "# Using numpy style indexing, I can retrieve fruits that occur once in the dataset by using\n",
    "# A boolean mask inside fruits.value_counts()[]. The conditional expression inside\n",
    "# the brackets creates a boolean array of True and False values if a fruit/datapoint\n",
    "# only occurs once in a dataset. The evaluated Series returns datapoints with only\n",
    "# one instance.\n",
    "# print(fruits.value_counts()[fruits.value_counts() == 1])\n",
    "\n",
    "# Alternative method is to use `fruits.value_counts(ascending=True).head(n)`.\n",
    "# n requires that I know the number of values with the lowest frequency. Using\n",
    "# `.value_counts` I can see all values and their frequency in the dataset. \n",
    "# Like SQL's LIMIT, I can use `value_counts` keyword parameter `ascending` -> True to order\n",
    "# smallest values first. I use`.head` to return the 11 datapoints that occur only once in\n",
    "# the dataset.\n",
    "# fruits.value_counts(ascending=True).head(11)\n",
    "\n",
    "# I use pandas `n.smallest' method to return the least frequently occuring fruit names.\n",
    "# Using the `n.smallest` keyword parameter `keep`, I can return ALL least occurring values\n",
    "# if there are multiple values in a dataset using - .nsmallest(keep='all').\n",
    "print(fruits.value_counts().nsmallest(keep='all'))"
   ]
  },
  {
   "cell_type": "code",
   "execution_count": 146,
   "metadata": {
    "ExecuteTime": {
     "end_time": "2020-08-12T15:46:25.000289Z",
     "start_time": "2020-08-12T15:46:24.993282Z"
    }
   },
   "outputs": [
    {
     "name": "stdout",
     "output_type": "stream",
     "text": [
      "5    honeycrisp apple\n",
      "dtype: object\n"
     ]
    }
   ],
   "source": [
    "# Write the code to get the longest string from the fruits series.\n",
    "\n",
    "# I can use a boolean mask to return the longest string.\n",
    "# Alternatively, I can use the `max` function and pass the dataset with a `key=len` to\n",
    "# return the longest string\n",
    "\n",
    "# I realzied I cannot chain `.max` on `.len`. It returns the incorrect values...\n",
    "# I have to wrap the pandas method calls inside of Python's built-in `max` function.\n",
    "print(fruits[fruits.str.len() == max(fruits.str.len())])\n",
    "\n",
    "# print(max(fruits, key=len))"
   ]
  },
  {
   "cell_type": "code",
   "execution_count": 147,
   "metadata": {
    "ExecuteTime": {
     "end_time": "2020-08-12T15:46:25.008955Z",
     "start_time": "2020-08-12T15:46:25.004424Z"
    }
   },
   "outputs": [
    {
     "name": "stdout",
     "output_type": "stream",
     "text": [
      "1                mango\n",
      "2           strawberry\n",
      "3            pineapple\n",
      "4           gala apple\n",
      "5     honeycrisp apple\n",
      "6               tomato\n",
      "7           watermelon\n",
      "8             honeydew\n",
      "12               mango\n",
      "13           blueberry\n",
      "14          blackberry\n",
      "15          gooseberry\n",
      "16              papaya\n",
      "dtype: object\n"
     ]
    }
   ],
   "source": [
    "# Find the fruit(s) with 5 or more letters in the name.\n",
    "\n",
    "# I use a boolean mask to find strings with a length of 5 or greater.\n",
    "print(fruits[fruits.str.len() >= 5])"
   ]
  },
  {
   "cell_type": "code",
   "execution_count": 148,
   "metadata": {
    "ExecuteTime": {
     "end_time": "2020-08-12T15:46:25.016070Z",
     "start_time": "2020-08-12T15:46:25.012126Z"
    }
   },
   "outputs": [
    {
     "name": "stdout",
     "output_type": "stream",
     "text": [
      "0                 Kiwi\n",
      "1                Mango\n",
      "2           Strawberry\n",
      "3            Pineapple\n",
      "4           Gala Apple\n",
      "5     Honeycrisp Apple\n",
      "6               Tomato\n",
      "7           Watermelon\n",
      "8             Honeydew\n",
      "9                 Kiwi\n",
      "10                Kiwi\n",
      "11                Kiwi\n",
      "12               Mango\n",
      "13           Blueberry\n",
      "14          Blackberry\n",
      "15          Gooseberry\n",
      "16              Papaya\n",
      "dtype: object\n"
     ]
    }
   ],
   "source": [
    "# Capitalize all the fruit strings in the series.\n",
    "\n",
    "# I use the `title` method instead of the `capitalize` method because `honeycrisp apple`\n",
    "# has a space between its name.\n",
    "print(fruits.str.title())"
   ]
  },
  {
   "cell_type": "code",
   "execution_count": 149,
   "metadata": {
    "ExecuteTime": {
     "end_time": "2020-08-12T15:46:25.021356Z",
     "start_time": "2020-08-12T15:46:25.017840Z"
    }
   },
   "outputs": [
    {
     "name": "stdout",
     "output_type": "stream",
     "text": [
      "14\n"
     ]
    }
   ],
   "source": [
    "# Count the letter \"a\" in all the fruits (use string vectorization)\n",
    "\n",
    "# I use `count` to find all 'a's in each string. I use `sum` to total a's in the\n",
    "# fruits dataset.\n",
    "letter_a_in_fruits = fruits.str.count('a')\n",
    "print(sum(letter_a_in_fruits))"
   ]
  },
  {
   "cell_type": "code",
   "execution_count": 150,
   "metadata": {
    "ExecuteTime": {
     "end_time": "2020-08-12T15:46:25.026333Z",
     "start_time": "2020-08-12T15:46:25.023580Z"
    }
   },
   "outputs": [
    {
     "name": "stdout",
     "output_type": "stream",
     "text": [
      "49\n"
     ]
    }
   ],
   "source": [
    "# Output the number of vowels in each and every fruit.\n",
    "\n",
    "# I use `count` a regular expression to find all instances of vowels in each string.\n",
    "vowels_in_fruits = fruits.str.count('[aeiou]')\n",
    "print(sum(vowels_in_fruits))"
   ]
  },
  {
   "cell_type": "code",
   "execution_count": 151,
   "metadata": {
    "ExecuteTime": {
     "end_time": "2020-08-12T15:46:25.032602Z",
     "start_time": "2020-08-12T15:46:25.028076Z"
    }
   },
   "outputs": [
    {
     "name": "stdout",
     "output_type": "stream",
     "text": [
      "6         tomato\n",
      "15    gooseberry\n",
      "dtype: object\n"
     ]
    }
   ],
   "source": [
    "# Use the .apply method and a lambda function to find the fruit(s) containing two \n",
    "# or more \"o\" letters in the name.\n",
    "# print(fruits.apply(lambda x: x.count('o') >= 2))\n",
    "\n",
    "# Using the `apply` method I can create a boolean mask to find strings with 2 or more O's.\n",
    "# I can pass the boolean array to the fruits dataset to return friuts with 2 or more O's.\n",
    "fruits_with_two_Os = fruits[fruits.apply(\n",
    "    lambda x: x.count('o') >= 2)]\n",
    "\n",
    "print(fruits_with_two_Os)"
   ]
  },
  {
   "cell_type": "code",
   "execution_count": 152,
   "metadata": {
    "ExecuteTime": {
     "end_time": "2020-08-12T15:46:25.038593Z",
     "start_time": "2020-08-12T15:46:25.034254Z"
    }
   },
   "outputs": [
    {
     "name": "stdout",
     "output_type": "stream",
     "text": [
      "2     strawberry\n",
      "13     blueberry\n",
      "14    blackberry\n",
      "15    gooseberry\n",
      "dtype: object\n"
     ]
    }
   ],
   "source": [
    "# Write the code to get only the fruits containing \"berry\" in the name\n",
    "\n",
    "# Similarly I can use a boolean mask to find all strings that contain `berry`.\n",
    "fruits_with_berry = fruits[fruits.apply(\n",
    "    lambda x: x.count('berry') > 0)]\n",
    "print(fruits_with_berry)\n",
    "\n",
    "# I can use the `contains` method to find all strings that contain the substring `berry`.\n",
    "# I pass the boolean mask to the fruits dataset to return all fruits with `berry` in their\n",
    "# name.\n",
    "# print(fruits[fruits.str.contains('berry')])"
   ]
  },
  {
   "cell_type": "code",
   "execution_count": 153,
   "metadata": {
    "ExecuteTime": {
     "end_time": "2020-08-12T15:46:25.044785Z",
     "start_time": "2020-08-12T15:46:25.040265Z"
    }
   },
   "outputs": [
    {
     "name": "stdout",
     "output_type": "stream",
     "text": [
      "3           pineapple\n",
      "4          gala apple\n",
      "5    honeycrisp apple\n",
      "dtype: object\n"
     ]
    }
   ],
   "source": [
    "# Write the code to get only the fruits containing \"apple\" in the name\n",
    "fruits_with_apple = fruits[fruits.apply(\n",
    "    lambda x: x.count('apple') > 0)]\n",
    "print(fruits_with_apple)"
   ]
  },
  {
   "cell_type": "code",
   "execution_count": 154,
   "metadata": {
    "ExecuteTime": {
     "end_time": "2020-08-12T15:46:25.053441Z",
     "start_time": "2020-08-12T15:46:25.048640Z"
    }
   },
   "outputs": [
    {
     "name": "stdout",
     "output_type": "stream",
     "text": [
      "honeycrisp apple\n"
     ]
    }
   ],
   "source": [
    "# Which fruit has the highest amount of vowels?\n",
    "fruit_with_most_vowels = fruits[max(\n",
    "    fruits.str.count('[aeiou]'))]\n",
    "print(fruit_with_most_vowels)"
   ]
  },
  {
   "cell_type": "code",
   "execution_count": 155,
   "metadata": {
    "ExecuteTime": {
     "end_time": "2020-08-12T15:46:25.059441Z",
     "start_time": "2020-08-12T15:46:25.055616Z"
    }
   },
   "outputs": [],
   "source": [
    "# Use pandas to create a Series from the following data:\n",
    "\n",
    "values = pd.Series(['$796,459.41', '$278.60', '$482,571.67', '$4,503,915.98',\n",
    "'$2,121,418.3', '$1,260,813.3', '$87,231.01', '$1,509,175.45', '$4,138,548.00',\n",
    "'$2,848,913.80', '$594,715.39', '$4,789,988.17', '$4,513,644.5', '$3,191,059.97',\n",
    "'$1,758,712.24', '$4,338,283.54', '$4,738,303.38', '$2,791,759.67', '$769,681.94',\n",
    "'$452,650.23'])"
   ]
  },
  {
   "cell_type": "code",
   "execution_count": 156,
   "metadata": {
    "ExecuteTime": {
     "end_time": "2020-08-12T15:46:25.066829Z",
     "start_time": "2020-08-12T15:46:25.061690Z"
    }
   },
   "outputs": [
    {
     "data": {
      "text/plain": [
       "pandas.core.series.Series"
      ]
     },
     "execution_count": 156,
     "metadata": {},
     "output_type": "execute_result"
    }
   ],
   "source": [
    "# What is the data type of the series?\n",
    "type(values)"
   ]
  },
  {
   "cell_type": "code",
   "execution_count": 157,
   "metadata": {
    "ExecuteTime": {
     "end_time": "2020-08-12T15:46:25.071585Z",
     "start_time": "2020-08-12T15:46:25.068500Z"
    }
   },
   "outputs": [],
   "source": [
    "# Use series operations to convert the series to a numeric data type.\n",
    "\n",
    "# Using regular expression's I can replace `$` and `,` at the same time.\n",
    "values = values.str.replace('[$,]', '').astype(float)"
   ]
  },
  {
   "cell_type": "code",
   "execution_count": 158,
   "metadata": {
    "ExecuteTime": {
     "end_time": "2020-08-12T15:46:25.076172Z",
     "start_time": "2020-08-12T15:46:25.073398Z"
    }
   },
   "outputs": [],
   "source": [
    "# What is the maximum value? The minimum?\n",
    "value_max = values.max()\n",
    "value_min = values.min()"
   ]
  },
  {
   "cell_type": "code",
   "execution_count": 159,
   "metadata": {
    "ExecuteTime": {
     "end_time": "2020-08-12T15:46:25.301335Z",
     "start_time": "2020-08-12T15:46:25.079186Z"
    }
   },
   "outputs": [
    {
     "data": {
      "image/png": "[encoded data removed]",
      "text/plain": [
       "<Figure size 864x576 with 1 Axes>"
      ]
     },
     "metadata": {
      "needs_background": "light"
     },
     "output_type": "display_data"
    }
   ],
   "source": [
    "# Bin the data into 4 equally sized intervals and show how many values fall into each bin.\n",
    "# Plot a histogram of the data. Be sure to include a title and axis labels.\n",
    "plt.figure(figsize=(12, 8))\n",
    "values.plot.hist(bins=4, color='royalblue')\n",
    "plt.title('Distribution of Values', fontsize=20)\n",
    "plt.xlabel('Values in $USD', fontsize=20)\n",
    "plt.ylabel('# of Values', fontsize=20)\n",
    "plt.tick_params(labelsize=15, pad=4);"
   ]
  },
  {
   "cell_type": "code",
   "execution_count": 160,
   "metadata": {
    "ExecuteTime": {
     "end_time": "2020-08-12T15:46:25.307324Z",
     "start_time": "2020-08-12T15:46:25.303814Z"
    }
   },
   "outputs": [],
   "source": [
    "# Use pandas to create a Series from the following exam scores:\n",
    "\n",
    "scores = pd.Series([60, 86, 75, 62, 93, 71, 60, 83, 95, 78,\n",
    "                    65, 72, 69, 81, 96, 80, 85, 92, 82, 78])"
   ]
  },
  {
   "cell_type": "code",
   "execution_count": 161,
   "metadata": {
    "ExecuteTime": {
     "end_time": "2020-08-12T15:46:25.316784Z",
     "start_time": "2020-08-12T15:46:25.309181Z"
    }
   },
   "outputs": [
    {
     "data": {
      "text/plain": [
       "count    20.000000\n",
       "mean     78.150000\n",
       "std      11.352139\n",
       "min      60.000000\n",
       "25%      70.500000\n",
       "50%      79.000000\n",
       "75%      85.250000\n",
       "max      96.000000\n",
       "dtype: float64"
      ]
     },
     "execution_count": 161,
     "metadata": {},
     "output_type": "execute_result"
    }
   ],
   "source": [
    "# What is the minimum exam score? The max, mean, median?\n",
    "scores_lowest = scores.min()\n",
    "scores_max = scores.max()\n",
    "scores_mean = scores.mean()\n",
    "scores_median = scores.median()\n",
    "scores.describe()"
   ]
  },
  {
   "cell_type": "code",
   "execution_count": 162,
   "metadata": {
    "ExecuteTime": {
     "end_time": "2020-08-12T15:46:25.533016Z",
     "start_time": "2020-08-12T15:46:25.321824Z"
    }
   },
   "outputs": [
    {
     "data": {
      "image/png": "[encoded data removed]",
      "text/plain": [
       "<Figure size 864x576 with 1 Axes>"
      ]
     },
     "metadata": {
      "needs_background": "light"
     },
     "output_type": "display_data"
    }
   ],
   "source": [
    "# Plot a histogram of the scores.\n",
    "plt.figure(figsize=(12, 8))\n",
    "scores.plot.hist(color='royalblue')\n",
    "plt.title('Scores', fontsize=20)\n",
    "plt.xlabel('Score', fontsize=20)\n",
    "plt.ylabel('# of Scores', fontsize=20)\n",
    "plt.xticks(fontsize=20)\n",
    "plt.yticks(fontsize=20);"
   ]
  },
  {
   "cell_type": "code",
   "execution_count": 163,
   "metadata": {
    "ExecuteTime": {
     "end_time": "2020-08-12T15:46:25.542056Z",
     "start_time": "2020-08-12T15:46:25.535184Z"
    }
   },
   "outputs": [
    {
     "name": "stdout",
     "output_type": "stream",
     "text": [
      "0     F\n",
      "1     B\n",
      "2     C\n",
      "3     D\n",
      "4     A\n",
      "5     C\n",
      "6     F\n",
      "7     B\n",
      "8     A\n",
      "9     C\n",
      "10    D\n",
      "11    C\n",
      "12    D\n",
      "13    B\n",
      "14    A\n",
      "15    C\n",
      "16    B\n",
      "17    A\n",
      "18    B\n",
      "19    C\n",
      "dtype: category\n",
      "Categories (5, object): [F < D < C < B < A]\n",
      "C    6\n",
      "B    5\n",
      "A    4\n",
      "D    3\n",
      "F    2\n",
      "dtype: int64\n",
      "0     60\n",
      "1     86\n",
      "2     75\n",
      "3     62\n",
      "4     93\n",
      "5     71\n",
      "6     60\n",
      "7     83\n",
      "8     95\n",
      "9     78\n",
      "10    65\n",
      "11    72\n",
      "12    69\n",
      "13    81\n",
      "14    96\n",
      "15    80\n",
      "16    85\n",
      "17    92\n",
      "18    82\n",
      "19    78\n",
      "dtype: int64\n"
     ]
    }
   ],
   "source": [
    "# Convert each of the numbers above into a letter grade.\n",
    "# For example, 86 should be a 'B' and 95 should be an 'A'.\n",
    "bin_edges = [0,60,70,80,90,100]\n",
    "bin_labels = ['F', 'D', 'C', 'B', 'A']\n",
    "\n",
    "print(pd.cut(scores, bins=bin_edges, labels=bin_labels))\n",
    "print(pd.cut(scores, bins=bin_edges, labels=bin_labels).value_counts())\n",
    "print(scores)"
   ]
  },
  {
   "cell_type": "code",
   "execution_count": 164,
   "metadata": {
    "ExecuteTime": {
     "end_time": "2020-08-12T15:46:25.554965Z",
     "start_time": "2020-08-12T15:46:25.543877Z"
    }
   },
   "outputs": [],
   "source": [
    "# Write the code necessary to implement a curve.\n",
    "# I.e. that grade closest to 100 should be converted to a 100,\n",
    "# and that many points should be given to every other score as well.\n",
    "max_score = scores.max()\n",
    "curve = 100 - max_score\n",
    "\n",
    "scores_with_curve = scores + curve"
   ]
  },
  {
   "cell_type": "code",
   "execution_count": 120,
   "metadata": {
    "ExecuteTime": {
     "end_time": "2020-08-12T15:46:25.562765Z",
     "start_time": "2020-08-12T15:46:25.558126Z"
    }
   },
   "outputs": [],
   "source": [
    "# Use pandas to create a Series from the following string:\n",
    "string = pd.Series(list('hnvidduckkqxwymbimkccexbkmqygkxoyndmcxnwqarhyffsjpsrabtjzsypmzadfavyrnndndvswreauxovncxtwzpwejilzjrmmbbgbyxvjtewqthafnbkqplarokkyydtubbmnexoypulzwfhqvckdpqtpoppzqrmcvhhpwgjwupgzhiofohawytlsiyecuproguy'))"
   ]
  },
  {
   "cell_type": "code",
   "execution_count": 123,
   "metadata": {
    "ExecuteTime": {
     "end_time": "2020-08-12T15:46:25.571313Z",
     "start_time": "2020-08-12T15:46:25.565547Z"
    }
   },
   "outputs": [
    {
     "name": "stdout",
     "output_type": "stream",
     "text": [
      "y    13\n",
      "dtype: int64\n",
      "l    4\n",
      "dtype: int64\n"
     ]
    }
   ],
   "source": [
    "# What is the most frequently occuring letter? Least frequently occuring?\n",
    "most_common_letter = string.value_counts().nlargest(1)\n",
    "least_common_letter = string.value_counts().nsmallest(1)\n",
    "print(most_common_letter)\n",
    "print(least_common_letter)"
   ]
  },
  {
   "cell_type": "code",
   "execution_count": 98,
   "metadata": {
    "ExecuteTime": {
     "end_time": "2020-08-12T15:46:25.584107Z",
     "start_time": "2020-08-12T15:46:25.580367Z"
    }
   },
   "outputs": [
    {
     "name": "stdout",
     "output_type": "stream",
     "text": [
      "34\n"
     ]
    }
   ],
   "source": [
    "# How many vowels are in the list?\n",
    "total_vowels = sum(training_series.str.count('[aeiou]'))\n",
    "print(total_vowels)"
   ]
  },
  {
   "cell_type": "code",
   "execution_count": 99,
   "metadata": {
    "ExecuteTime": {
     "end_time": "2020-08-12T15:46:25.588313Z",
     "start_time": "2020-08-12T15:46:25.585923Z"
    }
   },
   "outputs": [
    {
     "name": "stdout",
     "output_type": "stream",
     "text": [
      "166\n"
     ]
    }
   ],
   "source": [
    "# How many consonants are in the list?\n",
    "total_consonants = sum(training_series.str.count('[^aeiou]'))\n",
    "print(total_consonants)"
   ]
  },
  {
   "cell_type": "code",
   "execution_count": 100,
   "metadata": {
    "ExecuteTime": {
     "end_time": "2020-08-12T15:46:25.593234Z",
     "start_time": "2020-08-12T15:46:25.590770Z"
    }
   },
   "outputs": [
    {
     "name": "stdout",
     "output_type": "stream",
     "text": [
      "0      H\n",
      "1      N\n",
      "2      V\n",
      "3      I\n",
      "4      D\n",
      "      ..\n",
      "195    R\n",
      "196    O\n",
      "197    G\n",
      "198    U\n",
      "199    Y\n",
      "Length: 200, dtype: object\n"
     ]
    }
   ],
   "source": [
    "# Create a series that has all of the same letters, but uppercased\n",
    "upper_cased_string = training_series.str.upper()\n",
    "print(upper_cased_string)"
   ]
  },
  {
   "cell_type": "code",
   "execution_count": 101,
   "metadata": {
    "ExecuteTime": {
     "end_time": "2020-08-12T15:46:25.598441Z",
     "start_time": "2020-08-12T15:46:25.596039Z"
    }
   },
   "outputs": [
    {
     "data": {
      "text/plain": [
       "y    13\n",
       "p    12\n",
       "w    10\n",
       "b     9\n",
       "n     9\n",
       "m     9\n",
       "dtype: int64"
      ]
     },
     "execution_count": 101,
     "metadata": {},
     "output_type": "execute_result"
    }
   ],
   "source": [
    "# Create a bar plot of the frequencies of the 6 most frequently occuring letters.\n",
    "training_series.value_counts().head(6)\n"
   ]
  }
 ],
 "metadata": {
  "kernelspec": {
   "display_name": "Python 3",
   "language": "python",
   "name": "python3"
  },
  "language_info": {
   "codemirror_mode": {
    "name": "ipython",
    "version": 3
   },
   "file_extension": ".py",
   "mimetype": "text/x-python",
   "name": "python",
   "nbconvert_exporter": "python",
   "pygments_lexer": "ipython3",
   "version": "3.7.6"
  }
 },
 "nbformat": 4,
 "nbformat_minor": 4
}
