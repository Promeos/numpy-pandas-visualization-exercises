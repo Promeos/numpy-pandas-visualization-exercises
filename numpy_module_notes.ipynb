{
 "cells": [
  {
   "cell_type": "code",
   "execution_count": 1,
   "metadata": {
    "ExecuteTime": {
     "end_time": "2020-08-09T00:36:03.139066Z",
     "start_time": "2020-08-09T00:36:02.601577Z"
    }
   },
   "outputs": [],
   "source": [
    "import numpy as np"
   ]
  },
  {
   "cell_type": "code",
   "execution_count": 2,
   "metadata": {
    "ExecuteTime": {
     "end_time": "2020-08-09T00:36:03.144226Z",
     "start_time": "2020-08-09T00:36:03.140681Z"
    }
   },
   "outputs": [],
   "source": [
    "a = np.array([1, 2, 3])\n",
    "\n",
    "matrix = np.array([[1, 2, 3],\n",
    "                    [4, 5, 6],\n",
    "                    [7, 8, 9]])"
   ]
  },
  {
   "cell_type": "code",
   "execution_count": 3,
   "metadata": {
    "ExecuteTime": {
     "end_time": "2020-08-09T00:36:03.155416Z",
     "start_time": "2020-08-09T00:36:03.146378Z"
    }
   },
   "outputs": [
    {
     "data": {
      "text/plain": [
       "array([[4, 5],\n",
       "       [7, 8]])"
      ]
     },
     "execution_count": 3,
     "metadata": {},
     "output_type": "execute_result"
    }
   ],
   "source": [
    "matrix[1:, :2]"
   ]
  },
  {
   "cell_type": "code",
   "execution_count": 4,
   "metadata": {
    "ExecuteTime": {
     "end_time": "2020-08-09T00:36:03.160989Z",
     "start_time": "2020-08-09T00:36:03.157300Z"
    }
   },
   "outputs": [
    {
     "name": "stdout",
     "output_type": "stream",
     "text": [
      "a    == [1 2 3]\n",
      "a[0] == 1\n",
      "a[1] == 2\n",
      "a[2] == 3\n"
     ]
    }
   ],
   "source": [
    "print('a    == {}'.format(a))\n",
    "print('a[0] == {}'.format(a[0]))\n",
    "print('a[1] == {}'.format(a[1]))\n",
    "print('a[2] == {}'.format(a[2]))"
   ]
  },
  {
   "cell_type": "code",
   "execution_count": 5,
   "metadata": {
    "ExecuteTime": {
     "end_time": "2020-08-09T00:36:03.165849Z",
     "start_time": "2020-08-09T00:36:03.162744Z"
    }
   },
   "outputs": [
    {
     "data": {
      "text/plain": [
       "5"
      ]
     },
     "execution_count": 5,
     "metadata": {},
     "output_type": "execute_result"
    }
   ],
   "source": [
    "# Retrieve the element at the second column, second row\n",
    "# row x column\n",
    "matrix[1, 1]"
   ]
  },
  {
   "cell_type": "code",
   "execution_count": 6,
   "metadata": {
    "ExecuteTime": {
     "end_time": "2020-08-09T00:36:03.170760Z",
     "start_time": "2020-08-09T00:36:03.167542Z"
    }
   },
   "outputs": [
    {
     "data": {
      "text/plain": [
       "array([[4, 5],\n",
       "       [7, 8]])"
      ]
     },
     "execution_count": 6,
     "metadata": {},
     "output_type": "execute_result"
    }
   ],
   "source": [
    "# Retrive the first 2 elements of the last 2 rows\n",
    "# row x column\n",
    "matrix[1:, :2]"
   ]
  },
  {
   "cell_type": "code",
   "execution_count": 7,
   "metadata": {
    "ExecuteTime": {
     "end_time": "2020-08-09T00:36:03.177728Z",
     "start_time": "2020-08-09T00:36:03.173653Z"
    }
   },
   "outputs": [
    {
     "data": {
      "text/plain": [
       "array([1, 3])"
      ]
     },
     "execution_count": 7,
     "metadata": {},
     "output_type": "execute_result"
    }
   ],
   "source": [
    "should_be_included = [True, False, True]\n",
    "a[should_be_included]"
   ]
  },
  {
   "cell_type": "markdown",
   "metadata": {},
   "source": [
    "# Vectorized Operations"
   ]
  },
  {
   "cell_type": "code",
   "execution_count": 8,
   "metadata": {
    "ExecuteTime": {
     "end_time": "2020-08-09T00:36:03.184110Z",
     "start_time": "2020-08-09T00:36:03.180729Z"
    }
   },
   "outputs": [
    {
     "name": "stdout",
     "output_type": "stream",
     "text": [
      "An error Occured!\n",
      "TypeError: can only concatenate list (not \"int\") to list\n"
     ]
    }
   ],
   "source": [
    "# If I wanted to add 1 to every element in a list, without numpy, I can't\n",
    "# Add 1 to the list, as it will result in a type error.\n",
    "original_array = [1, 2, 3, 4, 5]\n",
    "\n",
    "try:\n",
    "    original_array + 1\n",
    "except TypeError as e:\n",
    "    print(\"An error Occured!\")\n",
    "    print(f\"TypeError: {e}\")"
   ]
  },
  {
   "cell_type": "markdown",
   "metadata": {},
   "source": [
    "> In order to add 1 to each element of a list, I would need to\n",
    "create a for loop or list comprehension to iterate through the list."
   ]
  },
  {
   "cell_type": "code",
   "execution_count": 9,
   "metadata": {
    "ExecuteTime": {
     "end_time": "2020-08-09T00:36:03.189442Z",
     "start_time": "2020-08-09T00:36:03.186542Z"
    }
   },
   "outputs": [
    {
     "name": "stdout",
     "output_type": "stream",
     "text": [
      "[2, 3, 4, 5, 6]\n"
     ]
    }
   ],
   "source": [
    "array_with_one_added = []\n",
    "\n",
    "for n in original_array:\n",
    "    array_with_one_added.append(n+1)\n",
    "print(array_with_one_added)"
   ]
  },
  {
   "cell_type": "code",
   "execution_count": 10,
   "metadata": {
    "ExecuteTime": {
     "end_time": "2020-08-09T00:36:03.194105Z",
     "start_time": "2020-08-09T00:36:03.190980Z"
    }
   },
   "outputs": [
    {
     "name": "stdout",
     "output_type": "stream",
     "text": [
      "[2, 3, 4, 5, 6]\n"
     ]
    }
   ],
   "source": [
    "array_with_one_added = [n+1 for n in original_array]\n",
    "print(array_with_one_added)"
   ]
  },
  {
   "cell_type": "code",
   "execution_count": 11,
   "metadata": {
    "ExecuteTime": {
     "end_time": "2020-08-09T00:36:03.199871Z",
     "start_time": "2020-08-09T00:36:03.196116Z"
    }
   },
   "outputs": [
    {
     "data": {
      "text/plain": [
       "array([2, 3, 4, 5, 6])"
      ]
     },
     "execution_count": 11,
     "metadata": {},
     "output_type": "execute_result"
    }
   ],
   "source": [
    "original_array = np.array([1, 2, 3, 4, 5])\n",
    "original_array + 1"
   ]
  },
  {
   "cell_type": "code",
   "execution_count": 12,
   "metadata": {
    "ExecuteTime": {
     "end_time": "2020-08-09T00:36:03.205078Z",
     "start_time": "2020-08-09T00:36:03.201977Z"
    }
   },
   "outputs": [],
   "source": [
    "my_array = np.array([-3, 0, 3, 16])"
   ]
  },
  {
   "cell_type": "code",
   "execution_count": 13,
   "metadata": {
    "ExecuteTime": {
     "end_time": "2020-08-09T00:36:03.212751Z",
     "start_time": "2020-08-09T00:36:03.207566Z"
    }
   },
   "outputs": [
    {
     "name": "stdout",
     "output_type": "stream",
     "text": [
      "my_array == [-3  0  3 16]\n",
      "my_array -5 == [-8 -5 -2 11]\n",
      "my_array * 4 == [-12   0  12  64]\n",
      "my_array / 2 == [-1.5  0.   1.5  8. ]\n",
      "my_array ** 2 == [  9   0   9 256]\n",
      "my_array % 2 == [1 0 1 0]\n"
     ]
    }
   ],
   "source": [
    "print(\"my_array == {}\".format(my_array))\n",
    "print(\"my_array -5 == {}\".format(my_array - 5))\n",
    "print(\"my_array * 4 == {}\".format(my_array * 4))\n",
    "print(\"my_array / 2 == {}\".format(my_array / 2))\n",
    "print(\"my_array ** 2 == {}\".format(my_array ** 2))\n",
    "print(\"my_array % 2 == {}\".format(my_array % 2))"
   ]
  },
  {
   "cell_type": "markdown",
   "metadata": {},
   "source": [
    "# Two Methods to Filter Values in an Array\n",
    "\n",
    "> I can perform comparisons using relational operators with arrays!\n",
    "The first method to perform comparisons is to compare the __entire__\n",
    "array variable against some value."
   ]
  },
  {
   "cell_type": "code",
   "execution_count": 14,
   "metadata": {
    "ExecuteTime": {
     "end_time": "2020-08-09T00:36:03.219229Z",
     "start_time": "2020-08-09T00:36:03.214781Z"
    }
   },
   "outputs": [
    {
     "name": "stdout",
     "output_type": "stream",
     "text": [
      "my_array == [-3  0  3 16]\n",
      "my_array == 3 == [False False  True False]\n",
      "my_array >= 0 == [False  True  True  True]\n",
      "my_array < 10 == [ True  True  True False]\n"
     ]
    }
   ],
   "source": [
    "my_array = np.array([-3, 0, 3, 16])\n",
    "\n",
    "print(\"my_array == {}\".format(my_array))\n",
    "print(\"my_array == 3 == {}\".format(my_array == 3))\n",
    "print(\"my_array >= 0 == {}\".format(my_array >= 0))\n",
    "print(\"my_array < 10 == {}\".format(my_array < 10))"
   ]
  },
  {
   "cell_type": "markdown",
   "metadata": {},
   "source": [
    "> I can also filter values by calling the variable name with\n",
    "the array boolean expression inside of square brackets."
   ]
  },
  {
   "cell_type": "code",
   "execution_count": 15,
   "metadata": {
    "ExecuteTime": {
     "end_time": "2020-08-09T00:36:03.225981Z",
     "start_time": "2020-08-09T00:36:03.221230Z"
    }
   },
   "outputs": [
    {
     "data": {
      "text/plain": [
       "array([-3,  3])"
      ]
     },
     "execution_count": 15,
     "metadata": {},
     "output_type": "execute_result"
    }
   ],
   "source": [
    "my_array[abs(my_array) == 3]"
   ]
  },
  {
   "cell_type": "code",
   "execution_count": 16,
   "metadata": {
    "ExecuteTime": {
     "end_time": "2020-08-09T00:36:03.232838Z",
     "start_time": "2020-08-09T00:36:03.228450Z"
    }
   },
   "outputs": [
    {
     "data": {
      "text/plain": [
       "array([ 3, 16])"
      ]
     },
     "execution_count": 16,
     "metadata": {},
     "output_type": "execute_result"
    }
   ],
   "source": [
    "my_array[my_array > 0]"
   ]
  },
  {
   "cell_type": "code",
   "execution_count": 17,
   "metadata": {
    "ExecuteTime": {
     "end_time": "2020-08-09T00:36:03.238446Z",
     "start_time": "2020-08-09T00:36:03.234785Z"
    }
   },
   "outputs": [
    {
     "data": {
      "text/plain": [
       "array([ 0, 16])"
      ]
     },
     "execution_count": 17,
     "metadata": {},
     "output_type": "execute_result"
    }
   ],
   "source": [
    "my_array[my_array % 2 == 0]"
   ]
  },
  {
   "cell_type": "code",
   "execution_count": 18,
   "metadata": {
    "ExecuteTime": {
     "end_time": "2020-08-09T00:36:03.243819Z",
     "start_time": "2020-08-09T00:36:03.239977Z"
    }
   },
   "outputs": [
    {
     "data": {
      "text/plain": [
       "array([1, 0, 1, 0])"
      ]
     },
     "execution_count": 18,
     "metadata": {},
     "output_type": "execute_result"
    }
   ],
   "source": [
    "my_array % 2"
   ]
  },
  {
   "cell_type": "code",
   "execution_count": 19,
   "metadata": {
    "ExecuteTime": {
     "end_time": "2020-08-09T00:36:03.248978Z",
     "start_time": "2020-08-09T00:36:03.245572Z"
    }
   },
   "outputs": [
    {
     "data": {
      "text/plain": [
       "array([False,  True, False,  True])"
      ]
     },
     "execution_count": 19,
     "metadata": {},
     "output_type": "execute_result"
    }
   ],
   "source": [
    "result = my_array % 2\n",
    "result == 0"
   ]
  },
  {
   "cell_type": "markdown",
   "metadata": {},
   "source": [
    "> I can create an array of boolean values from the original array\n",
    "and use the boolean array to filter for values. __UNDER THE HOOD__"
   ]
  },
  {
   "cell_type": "code",
   "execution_count": 20,
   "metadata": {
    "ExecuteTime": {
     "end_time": "2020-08-09T00:36:03.254687Z",
     "start_time": "2020-08-09T00:36:03.250599Z"
    }
   },
   "outputs": [
    {
     "name": "stdout",
     "output_type": "stream",
     "text": [
      "[ 0 16]\n"
     ]
    }
   ],
   "source": [
    "step_1 = my_array % 2\n",
    "step_2 = step_1 == 0\n",
    "step_3 = my_array[step_2]\n",
    "print(step_3)"
   ]
  },
  {
   "cell_type": "code",
   "execution_count": 21,
   "metadata": {
    "ExecuteTime": {
     "end_time": "2020-08-09T00:36:03.262233Z",
     "start_time": "2020-08-09T00:36:03.256406Z"
    }
   },
   "outputs": [
    {
     "name": "stdout",
     "output_type": "stream",
     "text": [
      "1. my_array[my_array % 2 == 0]\n",
      "    - the original expression\n",
      "2. my_array[[-3  0  3 16] % 2 == 0]\n",
      "    - variable substitution\n",
      "3. my_array[[1 0 1 0] == 0]\n",
      "    - result of performing the vectorized modulus 2\n",
      "4. my_array[[False  True False  True]]\n",
      "    - result of comparing to 0\n",
      "5. [-3  0  3 16][[False  True False  True]]\n",
      "    - variable substitution\n",
      "6. [ 0 16]\n",
      "    - our final result\n"
     ]
    }
   ],
   "source": [
    "print('1. my_array[my_array % 2 == 0]')\n",
    "print('    - the original expression')\n",
    "print('2. my_array[{} % 2 == 0]'.format(my_array))\n",
    "print('    - variable substitution')\n",
    "print('3. my_array[{} == 0]'.format(my_array % 2))\n",
    "print('    - result of performing the vectorized modulus 2')\n",
    "print('4. my_array[{}]'.format(my_array % 2 == 0))\n",
    "print('    - result of comparing to 0')\n",
    "print('5. {}[{}]'.format(my_array, my_array % 2 == 0))\n",
    "print('    - variable substitution')\n",
    "print('6. {}'.format(my_array[my_array % 2 == 0]))\n",
    "print('    - our final result')"
   ]
  },
  {
   "cell_type": "markdown",
   "metadata": {},
   "source": [
    "# Array Creation\n",
    "> Numpy provides several methods for creating arrays I'll learn about\n",
    "them here."
   ]
  },
  {
   "cell_type": "markdown",
   "metadata": {
    "ExecuteTime": {
     "end_time": "2020-08-09T00:47:19.201713Z",
     "start_time": "2020-08-09T00:47:19.198521Z"
    }
   },
   "source": [
    "`np.random.randn` \n",
    "> Returns values from the standard normal distribution, 0-1.\n",
    "> The first parameter creates an array of (d1, d2,....dn). I don't\n",
    "> yet know how to read anything past 2~3 dimensions. More exposure!"
   ]
  },
  {
   "cell_type": "code",
   "execution_count": 40,
   "metadata": {
    "ExecuteTime": {
     "end_time": "2020-08-09T00:57:18.757275Z",
     "start_time": "2020-08-09T00:57:18.752795Z"
    }
   },
   "outputs": [
    {
     "data": {
      "text/plain": [
       "array([[[ 0.16444364,  0.62133805, -0.60624554],\n",
       "        [ 0.84900509,  2.08998087,  0.6096297 ],\n",
       "        [-0.64775087, -2.09505693,  0.04718874]],\n",
       "\n",
       "       [[-0.57346668,  1.53088656, -0.65060979],\n",
       "        [ 1.89533977, -0.26609702, -0.45634747],\n",
       "        [-1.06979126, -0.84913703, -0.87117273]]])"
      ]
     },
     "execution_count": 40,
     "metadata": {},
     "output_type": "execute_result"
    }
   ],
   "source": [
    "# With the arguments passed below, the `np.random.randn' function\n",
    "# Creates 2, 3 x 3 arrays!\n",
    "np.random.randn(2, 3, 3)"
   ]
  },
  {
   "cell_type": "code",
   "execution_count": 39,
   "metadata": {
    "ExecuteTime": {
     "end_time": "2020-08-09T00:57:03.436997Z",
     "start_time": "2020-08-09T00:57:03.433366Z"
    }
   },
   "outputs": [
    {
     "data": {
      "text/plain": [
       "array([ 2.18847954, -1.67367571,  0.89174388, -0.51177213,  0.20207421,\n",
       "       -1.63611558, -0.8894505 , -1.36810229, -1.45371573, -0.9296372 ])"
      ]
     },
     "execution_count": 39,
     "metadata": {},
     "output_type": "execute_result"
    }
   ],
   "source": [
    "np.random.randn(10)"
   ]
  },
  {
   "cell_type": "code",
   "execution_count": 36,
   "metadata": {
    "ExecuteTime": {
     "end_time": "2020-08-09T00:49:50.970186Z",
     "start_time": "2020-08-09T00:49:50.965638Z"
    }
   },
   "outputs": [
    {
     "data": {
      "text/plain": [
       "array([ 95.213266  ,  61.82861691,  34.81041834,  98.61799515,\n",
       "        69.92274119, 127.94086864,  82.78369459,  92.2672414 ,\n",
       "       135.58134085, 103.06459291,  75.06913603, 110.26483485,\n",
       "       148.54433842,  36.3932994 , 153.33850755,  93.84497549,\n",
       "       112.37075224, 118.17919573, 107.80608861,  97.23018239])"
      ]
     },
     "execution_count": 36,
     "metadata": {},
     "output_type": "execute_result"
    }
   ],
   "source": [
    "mu = 100\n",
    "sigma = 30\n",
    "\n",
    "# This formula is inside the np.random.randn docstring!!\n",
    "sigma * np.random.randn(20) + mu"
   ]
  },
  {
   "cell_type": "markdown",
   "metadata": {},
   "source": [
    "> Three functions: `zeros`, `ones`, `full` allow me to create numpy\n",
    "arrays.\n",
    "\n",
    "> By reading the `np.ones` docstring, I discovered there are more\n",
    "numpy functions I can use to generate a numpy array. `empty` and `ones_like`."
   ]
  },
  {
   "cell_type": "code",
   "execution_count": 33,
   "metadata": {
    "ExecuteTime": {
     "end_time": "2020-08-09T00:43:57.845817Z",
     "start_time": "2020-08-09T00:43:57.841754Z"
    }
   },
   "outputs": [
    {
     "name": "stdout",
     "output_type": "stream",
     "text": [
      "[0. 0. 0. 0. 0. 0. 0. 0. 0.]\n",
      "\n",
      "\n",
      "[[0. 0. 0.]\n",
      " [0. 0. 0.]\n",
      " [0. 0. 0.]]\n"
     ]
    }
   ],
   "source": [
    "# It's important to read docs/doc strings when working with new\n",
    "# New functions. Here I did not know that `np.zeros` would not take\n",
    "# 2 dimensions outside of parentheses. The '`zeros` function takes\n",
    "# either an int OR a TUPLE OF INTS! module.function_name? <-----\n",
    "# np.zeros?\n",
    "print(np.zeros(9))\n",
    "print('\\n')\n",
    "print(np.zeros((3, 3)))"
   ]
  },
  {
   "cell_type": "code",
   "execution_count": 66,
   "metadata": {
    "ExecuteTime": {
     "end_time": "2020-08-09T01:23:04.348697Z",
     "start_time": "2020-08-09T01:23:04.344997Z"
    }
   },
   "outputs": [
    {
     "data": {
      "text/plain": [
       "array([1., 1., 1., 1., 1., 1., 1., 1., 1., 1.])"
      ]
     },
     "execution_count": 66,
     "metadata": {},
     "output_type": "execute_result"
    }
   ],
   "source": [
    "# Similar to the `np.zeros` function, the `np.ones` function\n",
    "# Accepts an int OR a tuple of ints. The `np.ones` function creates\n",
    "# an array of 1's of datatype float.\n",
    "# np.ones?\n",
    "np.ones(10)"
   ]
  },
  {
   "cell_type": "code",
   "execution_count": 67,
   "metadata": {
    "ExecuteTime": {
     "end_time": "2020-08-09T01:23:06.433252Z",
     "start_time": "2020-08-09T01:23:06.429322Z"
    }
   },
   "outputs": [
    {
     "data": {
      "text/plain": [
       "array([[20, 20, 20],\n",
       "       [20, 20, 20],\n",
       "       [20, 20, 20]])"
      ]
     },
     "execution_count": 67,
     "metadata": {},
     "output_type": "execute_result"
    }
   ],
   "source": [
    "# The `np.full` function accepts similar parameters as the other array\n",
    "# creator/creation functions. The `np.full` function accepts another\n",
    "# Argument in addition to array shape - Fill Value!\n",
    "# np.full?\n",
    "np.full((3, 3), 20)"
   ]
  },
  {
   "cell_type": "markdown",
   "metadata": {},
   "source": [
    "Numpy `arange` function\n",
    "\n",
    "Additional: `numpy.linspace`,`numpy.ogrid`,`numpy.mgrid`"
   ]
  },
  {
   "cell_type": "code",
   "execution_count": 65,
   "metadata": {
    "ExecuteTime": {
     "end_time": "2020-08-09T01:22:53.839583Z",
     "start_time": "2020-08-09T01:22:53.834826Z"
    }
   },
   "outputs": [
    {
     "data": {
      "text/plain": [
       "array([1. , 1.1, 1.2, 1.3, 1.4, 1.5, 1.6, 1.7, 1.8, 1.9, 2. , 2.1, 2.2,\n",
       "       2.3, 2.4, 2.5, 2.6, 2.7, 2.8, 2.9, 3. , 3.1, 3.2, 3.3, 3.4, 3.5,\n",
       "       3.6, 3.7, 3.8, 3.9, 4. , 4.1, 4.2, 4.3, 4.4, 4.5, 4.6, 4.7, 4.8,\n",
       "       4.9, 5. , 5.1, 5.2, 5.3, 5.4, 5.5, 5.6, 5.7, 5.8, 5.9, 6. , 6.1,\n",
       "       6.2, 6.3, 6.4, 6.5, 6.6, 6.7, 6.8, 6.9, 7. , 7.1, 7.2, 7.3, 7.4,\n",
       "       7.5, 7.6, 7.7, 7.8, 7.9, 8. , 8.1, 8.2, 8.3, 8.4, 8.5, 8.6, 8.7,\n",
       "       8.8, 8.9, 9. , 9.1, 9.2, 9.3, 9.4, 9.5, 9.6, 9.7, 9.8, 9.9])"
      ]
     },
     "execution_count": 65,
     "metadata": {},
     "output_type": "execute_result"
    }
   ],
   "source": [
    "# np.arange?\n",
    "# Unlike Python's built-in function, `range`, `np.arange`\n",
    "# Can accept float step values. Example. Step size 00.10\n",
    "# I can specify the Start, Stop (non-inclusive), and Step size.\n",
    "np.arange(1, 10, .1)"
   ]
  },
  {
   "cell_type": "code",
   "execution_count": 58,
   "metadata": {
    "ExecuteTime": {
     "end_time": "2020-08-09T01:20:44.384457Z",
     "start_time": "2020-08-09T01:20:44.380121Z"
    }
   },
   "outputs": [
    {
     "data": {
      "text/plain": [
       "array([[1, 2, 3],\n",
       "       [4, 5, 6],\n",
       "       [7, 8, 9]])"
      ]
     },
     "execution_count": 58,
     "metadata": {},
     "output_type": "execute_result"
    }
   ],
   "source": [
    "# `np.arange` cannot broadcast along multiple dimensions\n",
    "# All values must be passed in a Series. Then, using the `reshape`\n",
    "# Function reshape the array with my desired dimensions.\n",
    "np.full(9, np.arange(1,10)).reshape(3, 3)"
   ]
  },
  {
   "cell_type": "code",
   "execution_count": 69,
   "metadata": {
    "ExecuteTime": {
     "end_time": "2020-08-09T01:27:50.489096Z",
     "start_time": "2020-08-09T01:27:50.484440Z"
    }
   },
   "outputs": [],
   "source": [
    "# I can use the `np.linspace` function to create ranges of numbers\n",
    "# With one unique parameter -> length. Returns an array with dtype\n",
    "# float. The `np.linspace` function returns evenly spaced numbers\n",
    "# Over a specified interval. 0 to 10, 5 even spaces.\n",
    "np.linspace?\n",
    "np.linspace(0, 10, 5) #MINIMUM 0, Maxiumum[INCLUSIVE] 10, length 5"
   ]
  },
  {
   "cell_type": "code",
   "execution_count": 71,
   "metadata": {
    "ExecuteTime": {
     "end_time": "2020-08-09T01:31:17.818910Z",
     "start_time": "2020-08-09T01:31:17.815476Z"
    }
   },
   "outputs": [],
   "source": [
    "np.ogrid?"
   ]
  },
  {
   "cell_type": "code",
   "execution_count": 72,
   "metadata": {
    "ExecuteTime": {
     "end_time": "2020-08-09T01:32:23.180428Z",
     "start_time": "2020-08-09T01:32:23.177137Z"
    }
   },
   "outputs": [],
   "source": [
    "np.mgrid?"
   ]
  },
  {
   "cell_type": "markdown",
   "metadata": {},
   "source": [
    "> Also: `np.geomspace` `np.logspace`"
   ]
  },
  {
   "cell_type": "markdown",
   "metadata": {},
   "source": [
    "# Array Methods\n",
    "> I can perform mathematical operations with built-in methods!"
   ]
  },
  {
   "cell_type": "code",
   "execution_count": 73,
   "metadata": {
    "ExecuteTime": {
     "end_time": "2020-08-09T01:33:54.019964Z",
     "start_time": "2020-08-09T01:33:54.016729Z"
    }
   },
   "outputs": [],
   "source": [
    "a = np.array([1, 2, 3, 4, 5])"
   ]
  },
  {
   "cell_type": "code",
   "execution_count": 81,
   "metadata": {
    "ExecuteTime": {
     "end_time": "2020-08-09T01:37:21.764676Z",
     "start_time": "2020-08-09T01:37:21.761390Z"
    },
    "scrolled": true
   },
   "outputs": [
    {
     "data": {
      "text/plain": [
       "1"
      ]
     },
     "execution_count": 81,
     "metadata": {},
     "output_type": "execute_result"
    }
   ],
   "source": [
    "# I can use the `np.min` function to select the minimum value\n",
    "# of an array OR minimum along an axis - row/column\n",
    "# np.min?\n",
    "a.min()"
   ]
  },
  {
   "cell_type": "code",
   "execution_count": 82,
   "metadata": {
    "ExecuteTime": {
     "end_time": "2020-08-09T01:37:50.202954Z",
     "start_time": "2020-08-09T01:37:50.199198Z"
    }
   },
   "outputs": [
    {
     "data": {
      "text/plain": [
       "5"
      ]
     },
     "execution_count": 82,
     "metadata": {},
     "output_type": "execute_result"
    }
   ],
   "source": [
    "# Similar functionality as `np.min` except with MAX value\n",
    "# np.max?\n",
    "a.max()"
   ]
  },
  {
   "cell_type": "code",
   "execution_count": 85,
   "metadata": {
    "ExecuteTime": {
     "end_time": "2020-08-09T01:43:29.907319Z",
     "start_time": "2020-08-09T01:43:29.903703Z"
    }
   },
   "outputs": [
    {
     "data": {
      "text/plain": [
       "3.0"
      ]
     },
     "execution_count": 85,
     "metadata": {},
     "output_type": "execute_result"
    }
   ],
   "source": [
    "# Similar functionality as `np.min` and `np.max`, but averages\n",
    "# There is an interesting note in `np.mean` docstring.\n",
    "# In single precision 'mean' can be inaccurate. \n",
    "# np.float32 < np.float64 accuracy.\n",
    "# np.mean?\n",
    "a.mean()"
   ]
  },
  {
   "cell_type": "code",
   "execution_count": 88,
   "metadata": {
    "ExecuteTime": {
     "end_time": "2020-08-09T01:48:24.267971Z",
     "start_time": "2020-08-09T01:48:24.264124Z"
    }
   },
   "outputs": [
    {
     "data": {
      "text/plain": [
       "15"
      ]
     },
     "execution_count": 88,
     "metadata": {},
     "output_type": "execute_result"
    }
   ],
   "source": [
    "# Similar functionality as `np.min`, `np.max`, `np.mean`, but summation.\n",
    "# np.sum?\n",
    "a.sum()"
   ]
  },
  {
   "cell_type": "code",
   "execution_count": 91,
   "metadata": {
    "ExecuteTime": {
     "end_time": "2020-08-09T01:51:28.124698Z",
     "start_time": "2020-08-09T01:51:28.120762Z"
    }
   },
   "outputs": [
    {
     "data": {
      "text/plain": [
       "1.4142135623730951"
      ]
     },
     "execution_count": 91,
     "metadata": {},
     "output_type": "execute_result"
    }
   ],
   "source": [
    "# Similar to `np.min`, `np.max`, `np.mean`, `np.sum`, but std. dev.\n",
    "# Docstring: Computing the standard deviation in float64 is more accurate:\n",
    "# np.std?\n",
    "np.std(a, dtype=np.float64)"
   ]
  }
 ],
 "metadata": {
  "kernelspec": {
   "display_name": "Python 3",
   "language": "python",
   "name": "python3"
  },
  "language_info": {
   "codemirror_mode": {
    "name": "ipython",
    "version": 3
   },
   "file_extension": ".py",
   "mimetype": "text/x-python",
   "name": "python",
   "nbconvert_exporter": "python",
   "pygments_lexer": "ipython3",
   "version": "3.7.6"
  }
 },
 "nbformat": 4,
 "nbformat_minor": 4
}
